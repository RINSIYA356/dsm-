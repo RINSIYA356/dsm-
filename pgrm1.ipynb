{
 "cells": [
  {
   "cell_type": "code",
   "execution_count": 1,
   "id": "cb0ed82a",
   "metadata": {},
   "outputs": [
    {
     "name": "stdout",
     "output_type": "stream",
     "text": [
      "a AND b: 8\n",
      "a OR b: 5\n",
      "NOT a: False\n",
      "a > b: False\n",
      "a == b: False\n",
      "a >= b: False\n",
      "a <= b: True\n",
      "a < b: True\n"
     ]
    }
   ],
   "source": [
    "a=5\n",
    "b=8\n",
    "print(\"a AND b:\",a and b)\n",
    "print(\"a OR b:\",a or b)\n",
    "print(\"NOT a:\",not a)\n",
    "print(\"a > b:\",a > b)\n",
    "print(\"a == b:\",a == b)\n",
    "print(\"a >= b:\",a >= b)\n",
    "print(\"a <= b:\",a <= b)\n",
    "print(\"a < b:\",a < b)"
   ]
  },
  {
   "cell_type": "markdown",
   "id": "62bab888",
   "metadata": {},
   "source": [
    "# 2"
   ]
  },
  {
   "cell_type": "code",
   "execution_count": 3,
   "id": "e47bbdfa",
   "metadata": {},
   "outputs": [
    {
     "name": "stdout",
     "output_type": "stream",
     "text": [
      "Merged Dictionary: {'a': 1, 'b': 2, 'c': 3, 'd': 4}\n"
     ]
    }
   ],
   "source": [
    "def merge_dictionaries():\n",
    "    dict1={'a':1,'b':2}\n",
    "    dict2={'c':3,'d':4}\n",
    "    merged_dict=dict1.copy()\n",
    "    merged_dict.update(dict2)\n",
    "    print(\"Merged Dictionary:\",merged_dict)\n",
    "merge_dictionaries()"
   ]
  },
  {
   "cell_type": "markdown",
   "id": "597c04ff",
   "metadata": {},
   "source": [
    "# 5basic list operations"
   ]
  },
  {
   "cell_type": "code",
   "execution_count": 4,
   "id": "e0da763b",
   "metadata": {},
   "outputs": [
    {
     "name": "stdout",
     "output_type": "stream",
     "text": [
      "Original List: [1, 2, 3]\n",
      "After Append: [1, 2, 3, 4]\n",
      "after insert at index: [1, 10, 2, 3, 4]\n",
      "After Deleting element at index 2: [1, 10, 3, 4]\n",
      "After Removing 10: [1, 3, 4]\n",
      "Copied List: [1, 3, 4]\n"
     ]
    }
   ],
   "source": [
    "a=[1,2,3]\n",
    "print(\"Original List:\",a)\n",
    "\n",
    "a.append(4)\n",
    "print(\"After Append:\",a)\n",
    "\n",
    "a.insert(1,10)\n",
    "print(\"after insert at index:\",a)\n",
    "\n",
    "del a[2]\n",
    "print(\"After Deleting element at index 2:\",a)\n",
    "\n",
    "a.remove(10)\n",
    "print(\"After Removing 10:\",a)\n",
    "\n",
    "copied_list=a.copy()\n",
    "print(\"Copied List:\",copied_list)"
   ]
  },
  {
   "cell_type": "code",
   "execution_count": null,
   "id": "c6f13302",
   "metadata": {},
   "outputs": [],
   "source": []
  }
 ],
 "metadata": {
  "kernelspec": {
   "display_name": "Python 3 (ipykernel)",
   "language": "python",
   "name": "python3"
  },
  "language_info": {
   "codemirror_mode": {
    "name": "ipython",
    "version": 3
   },
   "file_extension": ".py",
   "mimetype": "text/x-python",
   "name": "python",
   "nbconvert_exporter": "python",
   "pygments_lexer": "ipython3",
   "version": "3.9.7"
  }
 },
 "nbformat": 4,
 "nbformat_minor": 5
}
